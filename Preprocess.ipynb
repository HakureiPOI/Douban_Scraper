{
  "nbformat": 4,
  "nbformat_minor": 0,
  "metadata": {
    "colab": {
      "provenance": [],
      "authorship_tag": "ABX9TyMNIntIv2gtTZ3Tor6y1WXB",
      "include_colab_link": true
    },
    "kernelspec": {
      "name": "python3",
      "display_name": "Python 3"
    },
    "language_info": {
      "name": "python"
    }
  },
  "cells": [
    {
      "cell_type": "markdown",
      "metadata": {
        "id": "view-in-github",
        "colab_type": "text"
      },
      "source": [
        "<a href=\"https://colab.research.google.com/github/HakureiPOI/Douban_Scraper/blob/main/Preprocess.ipynb\" target=\"_parent\"><img src=\"https://colab.research.google.com/assets/colab-badge.svg\" alt=\"Open In Colab\"/></a>"
      ]
    },
    {
      "cell_type": "code",
      "source": [
        "from google.colab import drive\n",
        "drive.mount('/content/drive')"
      ],
      "metadata": {
        "colab": {
          "base_uri": "https://localhost:8080/"
        },
        "id": "OvCZ10mNmDPi",
        "outputId": "48c7fc7b-58bf-4fc2-af21-e386ae30100f"
      },
      "execution_count": 1,
      "outputs": [
        {
          "output_type": "stream",
          "name": "stdout",
          "text": [
            "Mounted at /content/drive\n"
          ]
        }
      ]
    },
    {
      "cell_type": "code",
      "source": [
        "!git clone https://github.com/HakureiPOI/Douban_Scraper.git"
      ],
      "metadata": {
        "colab": {
          "base_uri": "https://localhost:8080/"
        },
        "id": "O7meLI30mFx-",
        "outputId": "db57b4f3-f36e-49dc-cbcd-e4cc011aaab7"
      },
      "execution_count": 2,
      "outputs": [
        {
          "output_type": "stream",
          "name": "stdout",
          "text": [
            "Cloning into 'Douban_Scraper'...\n",
            "remote: Enumerating objects: 34, done.\u001b[K\n",
            "remote: Counting objects: 100% (34/34), done.\u001b[K\n",
            "remote: Compressing objects: 100% (32/32), done.\u001b[K\n",
            "remote: Total 34 (delta 16), reused 0 (delta 0), pack-reused 0 (from 0)\u001b[K\n",
            "Receiving objects: 100% (34/34), 12.36 MiB | 13.49 MiB/s, done.\n",
            "Resolving deltas: 100% (16/16), done.\n"
          ]
        }
      ]
    },
    {
      "cell_type": "code",
      "source": [
        "!git clone https://github.com/goto456/stopwords.git"
      ],
      "metadata": {
        "colab": {
          "base_uri": "https://localhost:8080/"
        },
        "id": "C-S0gVBhoT_K",
        "outputId": "9d0bd255-766b-401a-bca9-159899d85f5c"
      },
      "execution_count": 3,
      "outputs": [
        {
          "output_type": "stream",
          "name": "stdout",
          "text": [
            "Cloning into 'stopwords'...\n",
            "remote: Enumerating objects: 31, done.\u001b[K\n",
            "remote: Counting objects: 100% (9/9), done.\u001b[K\n",
            "remote: Compressing objects: 100% (8/8), done.\u001b[K\n",
            "remote: Total 31 (delta 4), reused 1 (delta 1), pack-reused 22 (from 1)\u001b[K\n",
            "Receiving objects: 100% (31/31), 22.11 KiB | 5.53 MiB/s, done.\n",
            "Resolving deltas: 100% (11/11), done.\n"
          ]
        }
      ]
    },
    {
      "cell_type": "code",
      "source": [
        "import pandas as pd\n",
        "import jieba\n",
        "import nltk\n",
        "from nltk.corpus import stopwords\n",
        "import re\n",
        "import string"
      ],
      "metadata": {
        "id": "ZccX5CeGmOGw"
      },
      "execution_count": 4,
      "outputs": []
    },
    {
      "cell_type": "code",
      "source": [
        "nltk.download('punkt')       # 用于英文分词\n",
        "nltk.download('stopwords')   # 用于获取英文停用词"
      ],
      "metadata": {
        "colab": {
          "base_uri": "https://localhost:8080/"
        },
        "id": "Z-Q40rGko1hC",
        "outputId": "e177ad19-d9dc-4442-b40d-6a424237527a"
      },
      "execution_count": 5,
      "outputs": [
        {
          "output_type": "stream",
          "name": "stderr",
          "text": [
            "[nltk_data] Downloading package punkt to /root/nltk_data...\n",
            "[nltk_data]   Unzipping tokenizers/punkt.zip.\n",
            "[nltk_data] Downloading package stopwords to /root/nltk_data...\n",
            "[nltk_data]   Unzipping corpora/stopwords.zip.\n"
          ]
        },
        {
          "output_type": "execute_result",
          "data": {
            "text/plain": [
              "True"
            ]
          },
          "metadata": {},
          "execution_count": 5
        }
      ]
    },
    {
      "cell_type": "code",
      "source": [
        "comments = pd.read_excel('/content/Douban_Scraper/comments.xlsx')"
      ],
      "metadata": {
        "id": "ypQhWrlFmjmr"
      },
      "execution_count": 6,
      "outputs": []
    },
    {
      "cell_type": "code",
      "source": [
        "comments"
      ],
      "metadata": {
        "colab": {
          "base_uri": "https://localhost:8080/",
          "height": 597
        },
        "id": "bbHzR-8CmpYv",
        "outputId": "d6837897-479e-4fe5-8d87-672be772c181"
      },
      "execution_count": 7,
      "outputs": [
        {
          "output_type": "execute_result",
          "data": {
            "text/plain": [
              "                                              animal commentator  \\\n",
              "0                        异度侵入 イド：インヴェイデッド ID:INVADED   丘贝贝Kyubei   \n",
              "1                        异度侵入 イド：インヴェイデッド ID:INVADED          晓宇   \n",
              "2                        异度侵入 イド：インヴェイデッド ID:INVADED      zx2337   \n",
              "3                        异度侵入 イド：インヴェイデッド ID:INVADED     未来事务管理局   \n",
              "4                        异度侵入 イド：インヴェイデッド ID:INVADED          尤莲   \n",
              "...                                              ...         ...   \n",
              "11196  海绵宝宝 The SpongeBob Movie: Sponge Out of Water     岁岁年年花相似   \n",
              "11197  海绵宝宝 The SpongeBob Movie: Sponge Out of Water     热心市民两块钱   \n",
              "11198  海绵宝宝 The SpongeBob Movie: Sponge Out of Water         不高興   \n",
              "11199  海绵宝宝 The SpongeBob Movie: Sponge Out of Water         十六太   \n",
              "11200  海绵宝宝 The SpongeBob Movie: Sponge Out of Water          若初   \n",
              "\n",
              "                  datetime rating  \\\n",
              "0      2020-03-19 21:04:19     还行   \n",
              "1      2020-02-10 21:31:36     力荐   \n",
              "2      2020-01-27 11:58:34     力荐   \n",
              "3      2020-04-08 22:17:59     力荐   \n",
              "4      2020-03-06 18:33:30     力荐   \n",
              "...                    ...    ...   \n",
              "11196  2023-02-04 22:14:02     推荐   \n",
              "11197  2018-10-07 21:47:56     推荐   \n",
              "11198  2021-08-23 22:44:35     推荐   \n",
              "11199  2022-07-11 19:16:24     推荐   \n",
              "11200  2015-09-04 23:20:06     力荐   \n",
              "\n",
              "                                                 content  \n",
              "0      写作存在其共性：动画剧本也好，期刊论文与专著也罢，作者一定要有一个认知：不要想着在有限的空间...  \n",
              "1      【写在最前边】感谢大家一直以来的点赞、回复、收藏、转发，一路走来大家辛苦了。13话的处理我是...  \n",
              "2      把我写在B站的长评也搬过来一份吧看完第5集后，我在评论区发了关于JW真实身份的猜想，讨论了J...  \n",
              "3       “一部动画，能够在每集20分钟的螺蛳壳里做出如此多变的领域致敬，可以说是狂热粉丝和匠心制作...  \n",
              "4      这两天被强烈安利了《异度侵入ID：INVADED》，男主史称话疗圣手。因而抽空看了。为了让自...  \n",
              "...                                                  ...  \n",
              "11196                                           闹腾 离谱 欢乐  \n",
              "11197                这是我的童年没错了 现在看起来海绵宝宝其实很有深度 讽刺了一些社会现象  \n",
              "11198  前面有點社會寓言，後面還是蠻好看的，越來越理解到痞老闆很可愛，比基尼海灘永遠不可或缺的反面角...  \n",
              "11199                                                  补  \n",
              "11200                                           GREAT~！！  \n",
              "\n",
              "[11201 rows x 5 columns]"
            ],
            "text/html": [
              "\n",
              "  <div id=\"df-699356ea-6e4e-4ea0-9009-a4b30e4a0cdc\" class=\"colab-df-container\">\n",
              "    <div>\n",
              "<style scoped>\n",
              "    .dataframe tbody tr th:only-of-type {\n",
              "        vertical-align: middle;\n",
              "    }\n",
              "\n",
              "    .dataframe tbody tr th {\n",
              "        vertical-align: top;\n",
              "    }\n",
              "\n",
              "    .dataframe thead th {\n",
              "        text-align: right;\n",
              "    }\n",
              "</style>\n",
              "<table border=\"1\" class=\"dataframe\">\n",
              "  <thead>\n",
              "    <tr style=\"text-align: right;\">\n",
              "      <th></th>\n",
              "      <th>animal</th>\n",
              "      <th>commentator</th>\n",
              "      <th>datetime</th>\n",
              "      <th>rating</th>\n",
              "      <th>content</th>\n",
              "    </tr>\n",
              "  </thead>\n",
              "  <tbody>\n",
              "    <tr>\n",
              "      <th>0</th>\n",
              "      <td>异度侵入 イド：インヴェイデッド ID:INVADED</td>\n",
              "      <td>丘贝贝Kyubei</td>\n",
              "      <td>2020-03-19 21:04:19</td>\n",
              "      <td>还行</td>\n",
              "      <td>写作存在其共性：动画剧本也好，期刊论文与专著也罢，作者一定要有一个认知：不要想着在有限的空间...</td>\n",
              "    </tr>\n",
              "    <tr>\n",
              "      <th>1</th>\n",
              "      <td>异度侵入 イド：インヴェイデッド ID:INVADED</td>\n",
              "      <td>晓宇</td>\n",
              "      <td>2020-02-10 21:31:36</td>\n",
              "      <td>力荐</td>\n",
              "      <td>【写在最前边】感谢大家一直以来的点赞、回复、收藏、转发，一路走来大家辛苦了。13话的处理我是...</td>\n",
              "    </tr>\n",
              "    <tr>\n",
              "      <th>2</th>\n",
              "      <td>异度侵入 イド：インヴェイデッド ID:INVADED</td>\n",
              "      <td>zx2337</td>\n",
              "      <td>2020-01-27 11:58:34</td>\n",
              "      <td>力荐</td>\n",
              "      <td>把我写在B站的长评也搬过来一份吧看完第5集后，我在评论区发了关于JW真实身份的猜想，讨论了J...</td>\n",
              "    </tr>\n",
              "    <tr>\n",
              "      <th>3</th>\n",
              "      <td>异度侵入 イド：インヴェイデッド ID:INVADED</td>\n",
              "      <td>未来事务管理局</td>\n",
              "      <td>2020-04-08 22:17:59</td>\n",
              "      <td>力荐</td>\n",
              "      <td>“一部动画，能够在每集20分钟的螺蛳壳里做出如此多变的领域致敬，可以说是狂热粉丝和匠心制作...</td>\n",
              "    </tr>\n",
              "    <tr>\n",
              "      <th>4</th>\n",
              "      <td>异度侵入 イド：インヴェイデッド ID:INVADED</td>\n",
              "      <td>尤莲</td>\n",
              "      <td>2020-03-06 18:33:30</td>\n",
              "      <td>力荐</td>\n",
              "      <td>这两天被强烈安利了《异度侵入ID：INVADED》，男主史称话疗圣手。因而抽空看了。为了让自...</td>\n",
              "    </tr>\n",
              "    <tr>\n",
              "      <th>...</th>\n",
              "      <td>...</td>\n",
              "      <td>...</td>\n",
              "      <td>...</td>\n",
              "      <td>...</td>\n",
              "      <td>...</td>\n",
              "    </tr>\n",
              "    <tr>\n",
              "      <th>11196</th>\n",
              "      <td>海绵宝宝 The SpongeBob Movie: Sponge Out of Water</td>\n",
              "      <td>岁岁年年花相似</td>\n",
              "      <td>2023-02-04 22:14:02</td>\n",
              "      <td>推荐</td>\n",
              "      <td>闹腾 离谱 欢乐</td>\n",
              "    </tr>\n",
              "    <tr>\n",
              "      <th>11197</th>\n",
              "      <td>海绵宝宝 The SpongeBob Movie: Sponge Out of Water</td>\n",
              "      <td>热心市民两块钱</td>\n",
              "      <td>2018-10-07 21:47:56</td>\n",
              "      <td>推荐</td>\n",
              "      <td>这是我的童年没错了 现在看起来海绵宝宝其实很有深度 讽刺了一些社会现象</td>\n",
              "    </tr>\n",
              "    <tr>\n",
              "      <th>11198</th>\n",
              "      <td>海绵宝宝 The SpongeBob Movie: Sponge Out of Water</td>\n",
              "      <td>不高興</td>\n",
              "      <td>2021-08-23 22:44:35</td>\n",
              "      <td>推荐</td>\n",
              "      <td>前面有點社會寓言，後面還是蠻好看的，越來越理解到痞老闆很可愛，比基尼海灘永遠不可或缺的反面角...</td>\n",
              "    </tr>\n",
              "    <tr>\n",
              "      <th>11199</th>\n",
              "      <td>海绵宝宝 The SpongeBob Movie: Sponge Out of Water</td>\n",
              "      <td>十六太</td>\n",
              "      <td>2022-07-11 19:16:24</td>\n",
              "      <td>推荐</td>\n",
              "      <td>补</td>\n",
              "    </tr>\n",
              "    <tr>\n",
              "      <th>11200</th>\n",
              "      <td>海绵宝宝 The SpongeBob Movie: Sponge Out of Water</td>\n",
              "      <td>若初</td>\n",
              "      <td>2015-09-04 23:20:06</td>\n",
              "      <td>力荐</td>\n",
              "      <td>GREAT~！！</td>\n",
              "    </tr>\n",
              "  </tbody>\n",
              "</table>\n",
              "<p>11201 rows × 5 columns</p>\n",
              "</div>\n",
              "    <div class=\"colab-df-buttons\">\n",
              "\n",
              "  <div class=\"colab-df-container\">\n",
              "    <button class=\"colab-df-convert\" onclick=\"convertToInteractive('df-699356ea-6e4e-4ea0-9009-a4b30e4a0cdc')\"\n",
              "            title=\"Convert this dataframe to an interactive table.\"\n",
              "            style=\"display:none;\">\n",
              "\n",
              "  <svg xmlns=\"http://www.w3.org/2000/svg\" height=\"24px\" viewBox=\"0 -960 960 960\">\n",
              "    <path d=\"M120-120v-720h720v720H120Zm60-500h600v-160H180v160Zm220 220h160v-160H400v160Zm0 220h160v-160H400v160ZM180-400h160v-160H180v160Zm440 0h160v-160H620v160ZM180-180h160v-160H180v160Zm440 0h160v-160H620v160Z\"/>\n",
              "  </svg>\n",
              "    </button>\n",
              "\n",
              "  <style>\n",
              "    .colab-df-container {\n",
              "      display:flex;\n",
              "      gap: 12px;\n",
              "    }\n",
              "\n",
              "    .colab-df-convert {\n",
              "      background-color: #E8F0FE;\n",
              "      border: none;\n",
              "      border-radius: 50%;\n",
              "      cursor: pointer;\n",
              "      display: none;\n",
              "      fill: #1967D2;\n",
              "      height: 32px;\n",
              "      padding: 0 0 0 0;\n",
              "      width: 32px;\n",
              "    }\n",
              "\n",
              "    .colab-df-convert:hover {\n",
              "      background-color: #E2EBFA;\n",
              "      box-shadow: 0px 1px 2px rgba(60, 64, 67, 0.3), 0px 1px 3px 1px rgba(60, 64, 67, 0.15);\n",
              "      fill: #174EA6;\n",
              "    }\n",
              "\n",
              "    .colab-df-buttons div {\n",
              "      margin-bottom: 4px;\n",
              "    }\n",
              "\n",
              "    [theme=dark] .colab-df-convert {\n",
              "      background-color: #3B4455;\n",
              "      fill: #D2E3FC;\n",
              "    }\n",
              "\n",
              "    [theme=dark] .colab-df-convert:hover {\n",
              "      background-color: #434B5C;\n",
              "      box-shadow: 0px 1px 3px 1px rgba(0, 0, 0, 0.15);\n",
              "      filter: drop-shadow(0px 1px 2px rgba(0, 0, 0, 0.3));\n",
              "      fill: #FFFFFF;\n",
              "    }\n",
              "  </style>\n",
              "\n",
              "    <script>\n",
              "      const buttonEl =\n",
              "        document.querySelector('#df-699356ea-6e4e-4ea0-9009-a4b30e4a0cdc button.colab-df-convert');\n",
              "      buttonEl.style.display =\n",
              "        google.colab.kernel.accessAllowed ? 'block' : 'none';\n",
              "\n",
              "      async function convertToInteractive(key) {\n",
              "        const element = document.querySelector('#df-699356ea-6e4e-4ea0-9009-a4b30e4a0cdc');\n",
              "        const dataTable =\n",
              "          await google.colab.kernel.invokeFunction('convertToInteractive',\n",
              "                                                    [key], {});\n",
              "        if (!dataTable) return;\n",
              "\n",
              "        const docLinkHtml = 'Like what you see? Visit the ' +\n",
              "          '<a target=\"_blank\" href=https://colab.research.google.com/notebooks/data_table.ipynb>data table notebook</a>'\n",
              "          + ' to learn more about interactive tables.';\n",
              "        element.innerHTML = '';\n",
              "        dataTable['output_type'] = 'display_data';\n",
              "        await google.colab.output.renderOutput(dataTable, element);\n",
              "        const docLink = document.createElement('div');\n",
              "        docLink.innerHTML = docLinkHtml;\n",
              "        element.appendChild(docLink);\n",
              "      }\n",
              "    </script>\n",
              "  </div>\n",
              "\n",
              "\n",
              "<div id=\"df-08ff387c-9b46-4405-b211-3a3a18619f14\">\n",
              "  <button class=\"colab-df-quickchart\" onclick=\"quickchart('df-08ff387c-9b46-4405-b211-3a3a18619f14')\"\n",
              "            title=\"Suggest charts\"\n",
              "            style=\"display:none;\">\n",
              "\n",
              "<svg xmlns=\"http://www.w3.org/2000/svg\" height=\"24px\"viewBox=\"0 0 24 24\"\n",
              "     width=\"24px\">\n",
              "    <g>\n",
              "        <path d=\"M19 3H5c-1.1 0-2 .9-2 2v14c0 1.1.9 2 2 2h14c1.1 0 2-.9 2-2V5c0-1.1-.9-2-2-2zM9 17H7v-7h2v7zm4 0h-2V7h2v10zm4 0h-2v-4h2v4z\"/>\n",
              "    </g>\n",
              "</svg>\n",
              "  </button>\n",
              "\n",
              "<style>\n",
              "  .colab-df-quickchart {\n",
              "      --bg-color: #E8F0FE;\n",
              "      --fill-color: #1967D2;\n",
              "      --hover-bg-color: #E2EBFA;\n",
              "      --hover-fill-color: #174EA6;\n",
              "      --disabled-fill-color: #AAA;\n",
              "      --disabled-bg-color: #DDD;\n",
              "  }\n",
              "\n",
              "  [theme=dark] .colab-df-quickchart {\n",
              "      --bg-color: #3B4455;\n",
              "      --fill-color: #D2E3FC;\n",
              "      --hover-bg-color: #434B5C;\n",
              "      --hover-fill-color: #FFFFFF;\n",
              "      --disabled-bg-color: #3B4455;\n",
              "      --disabled-fill-color: #666;\n",
              "  }\n",
              "\n",
              "  .colab-df-quickchart {\n",
              "    background-color: var(--bg-color);\n",
              "    border: none;\n",
              "    border-radius: 50%;\n",
              "    cursor: pointer;\n",
              "    display: none;\n",
              "    fill: var(--fill-color);\n",
              "    height: 32px;\n",
              "    padding: 0;\n",
              "    width: 32px;\n",
              "  }\n",
              "\n",
              "  .colab-df-quickchart:hover {\n",
              "    background-color: var(--hover-bg-color);\n",
              "    box-shadow: 0 1px 2px rgba(60, 64, 67, 0.3), 0 1px 3px 1px rgba(60, 64, 67, 0.15);\n",
              "    fill: var(--button-hover-fill-color);\n",
              "  }\n",
              "\n",
              "  .colab-df-quickchart-complete:disabled,\n",
              "  .colab-df-quickchart-complete:disabled:hover {\n",
              "    background-color: var(--disabled-bg-color);\n",
              "    fill: var(--disabled-fill-color);\n",
              "    box-shadow: none;\n",
              "  }\n",
              "\n",
              "  .colab-df-spinner {\n",
              "    border: 2px solid var(--fill-color);\n",
              "    border-color: transparent;\n",
              "    border-bottom-color: var(--fill-color);\n",
              "    animation:\n",
              "      spin 1s steps(1) infinite;\n",
              "  }\n",
              "\n",
              "  @keyframes spin {\n",
              "    0% {\n",
              "      border-color: transparent;\n",
              "      border-bottom-color: var(--fill-color);\n",
              "      border-left-color: var(--fill-color);\n",
              "    }\n",
              "    20% {\n",
              "      border-color: transparent;\n",
              "      border-left-color: var(--fill-color);\n",
              "      border-top-color: var(--fill-color);\n",
              "    }\n",
              "    30% {\n",
              "      border-color: transparent;\n",
              "      border-left-color: var(--fill-color);\n",
              "      border-top-color: var(--fill-color);\n",
              "      border-right-color: var(--fill-color);\n",
              "    }\n",
              "    40% {\n",
              "      border-color: transparent;\n",
              "      border-right-color: var(--fill-color);\n",
              "      border-top-color: var(--fill-color);\n",
              "    }\n",
              "    60% {\n",
              "      border-color: transparent;\n",
              "      border-right-color: var(--fill-color);\n",
              "    }\n",
              "    80% {\n",
              "      border-color: transparent;\n",
              "      border-right-color: var(--fill-color);\n",
              "      border-bottom-color: var(--fill-color);\n",
              "    }\n",
              "    90% {\n",
              "      border-color: transparent;\n",
              "      border-bottom-color: var(--fill-color);\n",
              "    }\n",
              "  }\n",
              "</style>\n",
              "\n",
              "  <script>\n",
              "    async function quickchart(key) {\n",
              "      const quickchartButtonEl =\n",
              "        document.querySelector('#' + key + ' button');\n",
              "      quickchartButtonEl.disabled = true;  // To prevent multiple clicks.\n",
              "      quickchartButtonEl.classList.add('colab-df-spinner');\n",
              "      try {\n",
              "        const charts = await google.colab.kernel.invokeFunction(\n",
              "            'suggestCharts', [key], {});\n",
              "      } catch (error) {\n",
              "        console.error('Error during call to suggestCharts:', error);\n",
              "      }\n",
              "      quickchartButtonEl.classList.remove('colab-df-spinner');\n",
              "      quickchartButtonEl.classList.add('colab-df-quickchart-complete');\n",
              "    }\n",
              "    (() => {\n",
              "      let quickchartButtonEl =\n",
              "        document.querySelector('#df-08ff387c-9b46-4405-b211-3a3a18619f14 button');\n",
              "      quickchartButtonEl.style.display =\n",
              "        google.colab.kernel.accessAllowed ? 'block' : 'none';\n",
              "    })();\n",
              "  </script>\n",
              "</div>\n",
              "\n",
              "  <div id=\"id_a4bdc077-ba9d-4864-965e-33ef3f80aa74\">\n",
              "    <style>\n",
              "      .colab-df-generate {\n",
              "        background-color: #E8F0FE;\n",
              "        border: none;\n",
              "        border-radius: 50%;\n",
              "        cursor: pointer;\n",
              "        display: none;\n",
              "        fill: #1967D2;\n",
              "        height: 32px;\n",
              "        padding: 0 0 0 0;\n",
              "        width: 32px;\n",
              "      }\n",
              "\n",
              "      .colab-df-generate:hover {\n",
              "        background-color: #E2EBFA;\n",
              "        box-shadow: 0px 1px 2px rgba(60, 64, 67, 0.3), 0px 1px 3px 1px rgba(60, 64, 67, 0.15);\n",
              "        fill: #174EA6;\n",
              "      }\n",
              "\n",
              "      [theme=dark] .colab-df-generate {\n",
              "        background-color: #3B4455;\n",
              "        fill: #D2E3FC;\n",
              "      }\n",
              "\n",
              "      [theme=dark] .colab-df-generate:hover {\n",
              "        background-color: #434B5C;\n",
              "        box-shadow: 0px 1px 3px 1px rgba(0, 0, 0, 0.15);\n",
              "        filter: drop-shadow(0px 1px 2px rgba(0, 0, 0, 0.3));\n",
              "        fill: #FFFFFF;\n",
              "      }\n",
              "    </style>\n",
              "    <button class=\"colab-df-generate\" onclick=\"generateWithVariable('comments')\"\n",
              "            title=\"Generate code using this dataframe.\"\n",
              "            style=\"display:none;\">\n",
              "\n",
              "  <svg xmlns=\"http://www.w3.org/2000/svg\" height=\"24px\"viewBox=\"0 0 24 24\"\n",
              "       width=\"24px\">\n",
              "    <path d=\"M7,19H8.4L18.45,9,17,7.55,7,17.6ZM5,21V16.75L18.45,3.32a2,2,0,0,1,2.83,0l1.4,1.43a1.91,1.91,0,0,1,.58,1.4,1.91,1.91,0,0,1-.58,1.4L9.25,21ZM18.45,9,17,7.55Zm-12,3A5.31,5.31,0,0,0,4.9,8.1,5.31,5.31,0,0,0,1,6.5,5.31,5.31,0,0,0,4.9,4.9,5.31,5.31,0,0,0,6.5,1,5.31,5.31,0,0,0,8.1,4.9,5.31,5.31,0,0,0,12,6.5,5.46,5.46,0,0,0,6.5,12Z\"/>\n",
              "  </svg>\n",
              "    </button>\n",
              "    <script>\n",
              "      (() => {\n",
              "      const buttonEl =\n",
              "        document.querySelector('#id_a4bdc077-ba9d-4864-965e-33ef3f80aa74 button.colab-df-generate');\n",
              "      buttonEl.style.display =\n",
              "        google.colab.kernel.accessAllowed ? 'block' : 'none';\n",
              "\n",
              "      buttonEl.onclick = () => {\n",
              "        google.colab.notebook.generateWithVariable('comments');\n",
              "      }\n",
              "      })();\n",
              "    </script>\n",
              "  </div>\n",
              "\n",
              "    </div>\n",
              "  </div>\n"
            ],
            "application/vnd.google.colaboratory.intrinsic+json": {
              "type": "dataframe",
              "variable_name": "comments",
              "summary": "{\n  \"name\": \"comments\",\n  \"rows\": 11201,\n  \"fields\": [\n    {\n      \"column\": \"animal\",\n      \"properties\": {\n        \"dtype\": \"category\",\n        \"num_unique_values\": 175,\n        \"samples\": [\n          \"\\u8721\\u7b14\\u5c0f\\u65b0 \\u30af\\u30ec\\u30e8\\u30f3\\u3057\\u3093\\u3061\\u3083\\u3093\",\n          \"\\u671d\\u82b1\\u5915\\u8a93 \\u3055\\u3088\\u306a\\u3089\\u306e\\u671d\\u306b\\u7d04\\u675f\\u306e\\u82b1\\u3092\\u304b\\u3056\\u308d\\u3046\",\n          \"\\u706b\\u5f71\\u5fcd\\u8005 NARUTO -\\u30ca\\u30eb\\u30c8-\"\n        ],\n        \"semantic_type\": \"\",\n        \"description\": \"\"\n      }\n    },\n    {\n      \"column\": \"commentator\",\n      \"properties\": {\n        \"dtype\": \"string\",\n        \"num_unique_values\": 7961,\n        \"samples\": [\n          \"PocoPoco\",\n          \"Mega\\u5851\\u6599\\u866b\",\n          \"\\u5b87\\u5b99\\u7b2c\\u4e00\\u5e05\"\n        ],\n        \"semantic_type\": \"\",\n        \"description\": \"\"\n      }\n    },\n    {\n      \"column\": \"datetime\",\n      \"properties\": {\n        \"dtype\": \"object\",\n        \"num_unique_values\": 10609,\n        \"samples\": [\n          \"2018-01-19 13:51:17\",\n          \"2007-09-03 04:48:11\",\n          \"2024-04-30 00:54:12\"\n        ],\n        \"semantic_type\": \"\",\n        \"description\": \"\"\n      }\n    },\n    {\n      \"column\": \"rating\",\n      \"properties\": {\n        \"dtype\": \"category\",\n        \"num_unique_values\": 5,\n        \"samples\": [\n          \"\\u529b\\u8350\",\n          \"\\u5f88\\u5dee\",\n          \"\\u8f83\\u5dee\"\n        ],\n        \"semantic_type\": \"\",\n        \"description\": \"\"\n      }\n    },\n    {\n      \"column\": \"content\",\n      \"properties\": {\n        \"dtype\": \"string\",\n        \"num_unique_values\": 10527,\n        \"samples\": [\n          \"\\u7f8e\\u4f22\\uff0c\\u4f60\\u56de\\u6765\\u4e86~\",\n          \"\\uff1f\\uff1f\\uff1f\\uff1f\\uff1f\\uff1f\\uff1f\\uff1f\\uff1f\\uff1f\\u54ea\\u5412\\u4e4bqq\\u98de\\u8f66\\uff1f\",\n          \"\\u6211\\u670d\\u4e86\\u7b2c\\u4e09\\u96c6\\u522b\\u628a\\u6211\\u54ed\\u6b7b\\u559c\\u6b22\\u5c0f\\u5343\\u548c\\u9f99\"\n        ],\n        \"semantic_type\": \"\",\n        \"description\": \"\"\n      }\n    }\n  ]\n}"
            }
          },
          "metadata": {},
          "execution_count": 7
        }
      ]
    },
    {
      "cell_type": "code",
      "source": [
        "def load_stopwords(filepath = '/content/stopwords/hit_stopwords.txt'):\n",
        "    with open(filepath, 'r', encoding='utf-8') as f:\n",
        "        stopwords = [line.strip() for line in f]\n",
        "    return stopwords"
      ],
      "metadata": {
        "id": "k7xdhMW2m7CP"
      },
      "execution_count": 8,
      "outputs": []
    },
    {
      "cell_type": "code",
      "source": [
        "english_stopwords = set(stopwords.words('english'))"
      ],
      "metadata": {
        "id": "5AWKJYpEoxmB"
      },
      "execution_count": 9,
      "outputs": []
    },
    {
      "cell_type": "code",
      "source": [
        "def remove_punctuation(text):\n",
        "    text = re.sub(r'[{}]+'.format(string.punctuation), '', text)\n",
        "    text = re.sub(r'[，。！？【】（）《》“”‘’；：、]', '', text)\n",
        "    return text"
      ],
      "metadata": {
        "id": "tIhBLkEQosaT"
      },
      "execution_count": 10,
      "outputs": []
    },
    {
      "cell_type": "code",
      "source": [
        "def extract_chinese(text):\n",
        "    chinese_text = re.sub(r'[a-zA-Z0-9]+', '', text)\n",
        "    return chinese_text"
      ],
      "metadata": {
        "id": "SiasLBX6qcoZ"
      },
      "execution_count": 11,
      "outputs": []
    },
    {
      "cell_type": "code",
      "source": [
        "def extract_english(text):\n",
        "    english_text = re.sub(r'[^\\x00-\\x7F]+', ' ', text)\n",
        "    return english_text"
      ],
      "metadata": {
        "id": "XUInSSa4qgCX"
      },
      "execution_count": 12,
      "outputs": []
    },
    {
      "cell_type": "code",
      "source": [
        "def process_text(text, chinese_stopwords, english_stopwords):\n",
        "    text = remove_punctuation(text)\n",
        "\n",
        "    chinese_text = extract_chinese(text)\n",
        "    english_text = extract_english(text)\n",
        "\n",
        "    chinese_words = jieba.cut(chinese_text)\n",
        "    english_words = nltk.word_tokenize(english_text)\n",
        "\n",
        "    all_words = list(chinese_words) + english_words\n",
        "\n",
        "    filtered_words = [word for word in all_words\n",
        "                      if word not in chinese_stopwords and word.lower() not in english_stopwords]\n",
        "\n",
        "    return filtered_words"
      ],
      "metadata": {
        "id": "5Qq8ju12pO7-"
      },
      "execution_count": 13,
      "outputs": []
    },
    {
      "cell_type": "code",
      "source": [
        "def process_row(row, chinese_stopwords, english_stopwords):\n",
        "    text = str(row['content'])\n",
        "    filtered_words = process_text(text, chinese_stopwords, english_stopwords)\n",
        "\n",
        "    if len(filtered_words) == 0:\n",
        "        return\n",
        "\n",
        "    with open('filtered_words.txt', 'a', encoding='utf-8') as f:\n",
        "        f.write(' '.join(filtered_words) + '\\n')\n",
        "        f.close()"
      ],
      "metadata": {
        "id": "NBzerzOQrAsx"
      },
      "execution_count": 20,
      "outputs": []
    },
    {
      "cell_type": "code",
      "source": [
        "chinese_stopwords = load_stopwords()"
      ],
      "metadata": {
        "id": "t831NLyTp8P_"
      },
      "execution_count": 21,
      "outputs": []
    },
    {
      "cell_type": "code",
      "source": [
        "for index, row in comments.iterrows():\n",
        "    process_row(row, chinese_stopwords, english_stopwords)"
      ],
      "metadata": {
        "id": "IejX5l5Xp-IQ"
      },
      "execution_count": 22,
      "outputs": []
    },
    {
      "cell_type": "code",
      "source": [
        "!cp /content/filtered_words.txt /content/drive/MyDrive/HITSZ/大数据/filtered_words.txt"
      ],
      "metadata": {
        "id": "6NGlHWnortg0"
      },
      "execution_count": 23,
      "outputs": []
    }
  ]
}